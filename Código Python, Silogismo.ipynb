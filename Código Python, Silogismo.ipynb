{
  "nbformat": 4,
  "nbformat_minor": 0,
  "metadata": {
    "colab": {
      "provenance": [],
      "toc_visible": true,
      "authorship_tag": "ABX9TyNjKqe9SdczEj4xapU3pCdq",
      "include_colab_link": true
    },
    "kernelspec": {
      "name": "python3",
      "display_name": "Python 3"
    },
    "language_info": {
      "name": "python"
    }
  },
  "cells": [
    {
      "cell_type": "markdown",
      "metadata": {
        "id": "view-in-github",
        "colab_type": "text"
      },
      "source": [
        "<a href=\"https://colab.research.google.com/github/kaique-araujo/analysticalab/blob/main/C%C3%B3digo%20Python%2C%20Silogismo\" target=\"_parent\"><img src=\"https://colab.research.google.com/assets/colab-badge.svg\" alt=\"Open In Colab\"/></a>"
      ]
    },
    {
      "cell_type": "code",
      "execution_count": null,
      "metadata": {
        "colab": {
          "base_uri": "https://localhost:8080/"
        },
        "id": "iSY1nlamKlkQ",
        "outputId": "bc54ec1b-aaab-48bf-f00a-724f409d6d78"
      },
      "outputs": [
        {
          "output_type": "stream",
          "name": "stdout",
          "text": [
            "--- Demonstração de um Silogismo Simples ---\n",
            "Premissa 1: Todos os homens são mortais.\n",
            "Premissa 2: Elias é homem.\n",
            "Conclusão esperada: Elias é mortal.\n",
            "----------------------------------------\n",
            "Com base nas premissas, a conclusão lógica é: Elias é mortal.\n",
            "Isso demonstra um argumento válido, onde a conclusão é inevitável se as premissas forem verdadeiras.\n",
            "----------------------------------------\n",
            "\n",
            "--- Exemplo com uma premissa falsa (simulada) ---\n",
            "Uma das premissas é falsa (Elias NÃO é homem).\n",
            "Portanto, a conclusão 'Elias é mortal' não se segue logicamente da forma do argumento neste caso.\n",
            "A lógica foca na *validade* da estrutura do raciocínio, não na verdade das premissas por si só [17, 18, Slide 6/24].\n"
          ]
        }
      ],
      "source": [
        "print(\"--- Demonstração de um Silogismo Simples ---\")\n",
        "print(\"Premissa 1: Todos os homens são mortais.\")\n",
        "print(\"Premissa 2: Elias é homem.\")\n",
        "print(\"Conclusão esperada: Elias é mortal.\")\n",
        "print(\"-\" * 40)\n",
        "\n",
        "# 1. Definir as premissas como variáveis booleanas\n",
        "# Para que a lógica do silogismo seja válida, assumimos que as premissas são verdadeiras.\n",
        "# Se qualquer premissa fosse falsa, a conclusão pode não ser logicamente garantida.\n",
        "premissa_todos_homens_sao_mortais = True  # Consideramos esta afirmação verdadeira\n",
        "premissa_elias_e_homem = True          # Consideramos esta afirmação verdadeira\n",
        "\n",
        "# 2. Aplicar a lógica dedutiva (o \"se... então...\" da lógica)\n",
        "# Se (Premissa 1 E Premissa 2 são verdadeiras), ENTÃO a Conclusão é válida.\n",
        "if premissa_todos_homens_sao_mortais and premissa_elias_e_homem:\n",
        "    # 3. Declarar a conclusão se as premissas forem verdadeiras\n",
        "    print(\"Com base nas premissas, a conclusão lógica é: Elias é mortal.\")\n",
        "    print(\"Isso demonstra um argumento válido, onde a conclusão é inevitável se as premissas forem verdadeiras.\")\n",
        "else:\n",
        "    # Este bloco seria executado se uma ou ambas as premissas fossem falsas.\n",
        "    # A lógica formal garante que, *se* as premissas são verdadeiras, a conclusão é verdadeira.\n",
        "    # Se as premissas são falsas, a validade do argumento não pode ser determinada apenas pela forma.\n",
        "    print(\"As premissas não são ambas verdadeiras, então a conclusão lógica não pode ser garantida pela forma do silogismo.\")\n",
        "\n",
        "print(\"-\" * 40)\n",
        "\n",
        "# Exemplo de como uma premissa falsa afetaria o resultado no código:\n",
        "print(\"\\n--- Exemplo com uma premissa falsa (simulada) ---\")\n",
        "premissa_todos_homens_sao_mortais_falsa = True\n",
        "premissa_elias_e_homem_falsa = False # Elias NÃO é homem, por exemplo (um gato)\n",
        "\n",
        "if premissa_todos_homens_sao_mortais_falsa and premissa_elias_e_homem_falsa:\n",
        "    print(\"Com base nas premissas, a conclusão lógica é: Elias é mortal.\")\n",
        "else:\n",
        "    print(\"Uma das premissas é falsa (Elias NÃO é homem).\")\n",
        "    print(\"Portanto, a conclusão 'Elias é mortal' não se segue logicamente da forma do argumento neste caso.\")\n",
        "    print(\"A lógica foca na *validade* da estrutura do raciocínio, não na verdade das premissas por si só [17, 18, Slide 6/24].\")\n"
      ]
    }
  ]
}
